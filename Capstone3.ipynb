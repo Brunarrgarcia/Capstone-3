{
  "nbformat": 4,
  "nbformat_minor": 0,
  "metadata": {
    "colab": {
      "provenance": [],
      "include_colab_link": true
    },
    "kernelspec": {
      "name": "python3",
      "display_name": "Python 3"
    },
    "language_info": {
      "name": "python"
    }
  },
  "cells": [
    {
      "cell_type": "markdown",
      "metadata": {
        "id": "view-in-github",
        "colab_type": "text"
      },
      "source": [
        "<a href=\"https://colab.research.google.com/github/Brunarrgarcia/Capstone-3/blob/main/Capstone3.ipynb\" target=\"_parent\"><img src=\"https://colab.research.google.com/assets/colab-badge.svg\" alt=\"Open In Colab\"/></a>"
      ]
    },
    {
      "cell_type": "markdown",
      "source": [
        "# Capstone III\n",
        "These findings can be used for the knowledge of the population of United States and also for companies who use gasoline and energy, they now know what to expect about the prices in the year of presidential election.\n",
        "\n",
        "The first question is to check if the gasoline price go down in the year of the presidential election.\n",
        "The second is to check if the energy price go down in the year of the presidential election. \n",
        "\n",
        "The years used in this project are: 2015, 2016, 2019 and 2020.\n",
        "\n",
        "The presidential election in US was in 2016 and 2020.\n"
      ],
      "metadata": {
        "id": "BqXUkuuLUwbL"
      }
    },
    {
      "cell_type": "code",
      "execution_count": null,
      "metadata": {
        "colab": {
          "base_uri": "https://localhost:8080/"
        },
        "id": "RPP37gPLe_W7",
        "outputId": "7f0735ef-3b97-4779-c88d-897b334eaa6c"
      },
      "outputs": [
        {
          "output_type": "stream",
          "name": "stdout",
          "text": [
            "Mounted at /content/gdrive\n",
            "<class 'pandas.core.frame.DataFrame'>\n",
            "RangeIndex: 191086 entries, 0 to 191085\n",
            "Data columns (total 8 columns):\n",
            " #   Column       Non-Null Count   Dtype \n",
            "---  ------       --------------   ----- \n",
            " 0   series_id    191086 non-null  object\n",
            " 1   year         191086 non-null  int64 \n",
            " 2   period       191086 non-null  object\n",
            " 3   value        191086 non-null  object\n",
            " 4   item_name    191086 non-null  object\n",
            " 5   area_name    191086 non-null  object\n",
            " 6   electricity  12201 non-null   object\n",
            " 7   gas          12276 non-null   object\n",
            "dtypes: int64(1), object(7)\n",
            "memory usage: 11.7+ MB\n",
            "size: \n"
          ]
        },
        {
          "output_type": "execute_result",
          "data": {
            "text/plain": [
              "1528688"
            ]
          },
          "metadata": {},
          "execution_count": 1
        }
      ],
      "source": [
        "from google.colab import drive\n",
        "drive.mount('/content/gdrive')\n",
        "import pandas as pd\n",
        "from scipy.stats.stats import ttest_ind\n",
        "import seaborn as sns \n",
        "sns.set()\n",
        "\n",
        "import warnings\n",
        "warnings.filterwarnings('ignore')\n",
        "\n",
        "df = pd.read_csv('/content/gdrive/MyDrive/Colab Datasets/Capstone3.csv')\n",
        "df.info()\n",
        "print('size: ')\n",
        "df.size"
      ]
    },
    {
      "cell_type": "markdown",
      "source": [
        "# Boxplot for gasoline prices\n",
        "Vizualization showing mean values for gasoline prices in the year 2015, 2016, 2019 and 2020. \n",
        "\n",
        "Presidential election in US was in 2016 and 2020."
      ],
      "metadata": {
        "id": "kmbLD1PJSp0V"
      }
    },
    {
      "cell_type": "code",
      "source": [
        "clean_df_gas = df.dropna(subset = ['gas'])\n",
        "clean_df_gas.drop_duplicates()\n",
        "\n",
        "df1 = clean_df_gas.loc[(clean_df_gas.year == 2015) | (clean_df_gas.year == 2016)]\n",
        "df1[['value']]= df1[['value']].astype(float)\n",
        "sns.boxplot(y= \"value\",x= \"year\", data= df1)\n"
      ],
      "metadata": {
        "id": "XNLQO4UiSw8Y",
        "colab": {
          "base_uri": "https://localhost:8080/",
          "height": 302
        },
        "outputId": "080ae34d-c86d-489d-de2c-e3fb0f75f173"
      },
      "execution_count": null,
      "outputs": [
        {
          "output_type": "execute_result",
          "data": {
            "text/plain": [
              "<matplotlib.axes._subplots.AxesSubplot at 0x7f7d2c6251d0>"
            ]
          },
          "metadata": {},
          "execution_count": 55
        },
        {
          "output_type": "display_data",
          "data": {
            "text/plain": [
              "<Figure size 432x288 with 1 Axes>"
            ],
            "image/png": "[encoded data removed]"
          },
          "metadata": {}
        }
      ]
    },
    {
      "cell_type": "code",
      "source": [
        "df2 = clean_df_gas.loc[(clean_df_gas.year == 2019) | (clean_df_gas.year == 2020)]\n",
        "df2[['value']]= df2[['value']].astype(float)\n",
        "sns.boxplot(y= \"value\",x= \"year\", data= df2)"
      ],
      "metadata": {
        "colab": {
          "base_uri": "https://localhost:8080/",
          "height": 302
        },
        "id": "yPbdW-lVCb0a",
        "outputId": "713d8fc9-3050-4a6b-9a03-3cae3e264be8"
      },
      "execution_count": null,
      "outputs": [
        {
          "output_type": "execute_result",
          "data": {
            "text/plain": [
              "<matplotlib.axes._subplots.AxesSubplot at 0x7f7d2c93ded0>"
            ]
          },
          "metadata": {},
          "execution_count": 56
        },
        {
          "output_type": "display_data",
          "data": {
            "text/plain": [
              "<Figure size 432x288 with 1 Axes>"
            ],
            "image/png": "[encoded data removed]"
          },
          "metadata": {}
        }
      ]
    },
    {
      "cell_type": "markdown",
      "source": [
        "# Hypothesis #1\n",
        "*Null Hypothesis:* Gasoline prices go up in the year of presidential election.\n",
        "\n",
        "*Alternate Hypothesis:* Gasoline prices go down in the year of presidential election.\n",
        "\n",
        "\n"
      ],
      "metadata": {
        "id": "UTc-PcjVhrgS"
      }
    },
    {
      "cell_type": "code",
      "source": [
        "year_2015 = clean_df_gas.iloc[(clean_df_gas['year']==2015).values]\n",
        "year_2015['value']= pd.to_numeric(year_2015['value'])\n",
        "year_2016 = clean_df_gas.iloc[(clean_df_gas['year']==2016).values]\n",
        "year_2016['value']= pd.to_numeric(year_2016['value'])\n",
        "ttest_ind(year_2015['value'], year_2016['value'], alternative = \"greater\")\n"
      ],
      "metadata": {
        "id": "-9lrel3lio7T",
        "colab": {
          "base_uri": "https://localhost:8080/"
        },
        "outputId": "00ce78ad-14fd-45c7-e8df-55bae77cc98d"
      },
      "execution_count": null,
      "outputs": [
        {
          "output_type": "execute_result",
          "data": {
            "text/plain": [
              "Ttest_indResult(statistic=12.999195360244277, pvalue=1.2528554374042024e-35)"
            ]
          },
          "metadata": {},
          "execution_count": 57
        }
      ]
    },
    {
      "cell_type": "code",
      "source": [
        "year_2019 = clean_df_gas.iloc[(clean_df_gas['year']==2019).values]\n",
        "year_2019['value']= pd.to_numeric(year_2019['value'])\n",
        "year_2020 = clean_df_gas.iloc[(clean_df_gas['year']==2020).values]\n",
        "year_2020['value']= pd.to_numeric(year_2020['value'])\n",
        "ttest_ind(year_2019['value'], year_2020['value'], alternative = \"greater\")"
      ],
      "metadata": {
        "colab": {
          "base_uri": "https://localhost:8080/"
        },
        "id": "Qp11Q6YkB-fW",
        "outputId": "a6154c6a-2a77-4cb5-debb-5f584da8f0d6"
      },
      "execution_count": null,
      "outputs": [
        {
          "output_type": "execute_result",
          "data": {
            "text/plain": [
              "Ttest_indResult(statistic=17.21405999943919, pvalue=1.9596118183199826e-59)"
            ]
          },
          "metadata": {},
          "execution_count": 58
        }
      ]
    },
    {
      "cell_type": "markdown",
      "source": [
        "### **Summary of findings for hypothesis #1:**\n",
        "\n",
        "The t-test shows that there is a significant difference between gasoline prices in the year of presidential election. This means that the gasoline prices go down in the year of presidential election. **Reject null hypothesis.**\n",
        "\n",
        "\n"
      ],
      "metadata": {
        "id": "7nowb5NPvIOE"
      }
    },
    {
      "cell_type": "markdown",
      "source": [
        "# Boxplot for electricity prices\n",
        "Vizualization showing mean values for electricity prices in the year 2015, 2016, 2019 and 2020. \n",
        "\n",
        "Presidential election in US was in 2016 and 2020."
      ],
      "metadata": {
        "id": "lQTATHfQD4Kz"
      }
    },
    {
      "cell_type": "code",
      "source": [
        "clean_df_elec = df.dropna(subset = ['electricity'])\n",
        "clean_df_elec.drop_duplicates()\n",
        "\n",
        "df3 = clean_df_elec.loc[(clean_df_elec.year == 2015) | (clean_df_elec.year == 2016)]\n",
        "df3[['value']]= df3[['value']].astype(float)\n",
        "sns.boxplot(y= \"value\",x= \"year\", data= df3)"
      ],
      "metadata": {
        "colab": {
          "base_uri": "https://localhost:8080/",
          "height": 306
        },
        "id": "9FXybx98D3N5",
        "outputId": "3722daf9-7a0a-4c47-bbe2-2db745a99b3e"
      },
      "execution_count": null,
      "outputs": [
        {
          "output_type": "execute_result",
          "data": {
            "text/plain": [
              "<matplotlib.axes._subplots.AxesSubplot at 0x7f50b2bf3a60>"
            ]
          },
          "metadata": {},
          "execution_count": 3
        },
        {
          "output_type": "display_data",
          "data": {
            "text/plain": [
              "<Figure size 432x288 with 1 Axes>"
            ],
            "image/png": "[encoded data removed]"
          },
          "metadata": {}
        }
      ]
    },
    {
      "cell_type": "code",
      "source": [
        "df4 = clean_df_elec.loc[(clean_df_elec.year == 2019) | (clean_df_elec.year == 2020)]\n",
        "df4[['value']]= df4[['value']].astype(float)\n",
        "sns.boxplot(y= \"value\",x= \"year\", data= df4)"
      ],
      "metadata": {
        "colab": {
          "base_uri": "https://localhost:8080/",
          "height": 302
        },
        "id": "BNAqLSBgERUr",
        "outputId": "3be9ca36-27f0-48d8-d30d-c33abdc123e2"
      },
      "execution_count": null,
      "outputs": [
        {
          "output_type": "execute_result",
          "data": {
            "text/plain": [
              "<matplotlib.axes._subplots.AxesSubplot at 0x7f50b2673190>"
            ]
          },
          "metadata": {},
          "execution_count": 4
        },
        {
          "output_type": "display_data",
          "data": {
            "text/plain": [
              "<Figure size 432x288 with 1 Axes>"
            ],
            "image/png": "[encoded data removed]"
          },
          "metadata": {}
        }
      ]
    },
    {
      "cell_type": "markdown",
      "source": [
        "# Hypothesis #2\n",
        "*Null Hypothesis:* The electricity prices go up in the year of presidential election.\n",
        "\n",
        "*Alternate Hypothesis:* The electricity prices go down in the year of presidential election.\n"
      ],
      "metadata": {
        "id": "MamW48oArtcD"
      }
    },
    {
      "cell_type": "code",
      "source": [
        "year_2015_2 = clean_df_elec.iloc[(clean_df_elec['year']==2015).values]\n",
        "year_2015_2['value']= pd.to_numeric(year_2015_2['value'])\n",
        "year_2016_2 = clean_df_elec.iloc[(clean_df_elec['year']==2016).values]\n",
        "year_2016_2['value']= pd.to_numeric(year_2016_2['value'])\n",
        "ttest_ind(year_2015_2['value'], year_2016_2['value'], alternative = \"greater\")"
      ],
      "metadata": {
        "id": "dLLQ4DqdsGwE",
        "colab": {
          "base_uri": "https://localhost:8080/"
        },
        "outputId": "bf83cec1-4e05-4aea-db9a-3ce768302901"
      },
      "execution_count": null,
      "outputs": [
        {
          "output_type": "execute_result",
          "data": {
            "text/plain": [
              "Ttest_indResult(statistic=1.3202358228225193, pvalue=0.09355839112263518)"
            ]
          },
          "metadata": {},
          "execution_count": 52
        }
      ]
    },
    {
      "cell_type": "code",
      "source": [
        "year_2019_2 = clean_df_elec.iloc[(clean_df_elec['year']==2019).values]\n",
        "year_2019_2['value']= pd.to_numeric(year_2019_2['value'])\n",
        "year_2020_2 = clean_df_elec.iloc[(clean_df_elec['year']==2020).values]\n",
        "year_2020_2['value']= pd.to_numeric(year_2020_2['value'])\n",
        "ttest_ind(year_2019_2['value'], year_2020_2['value'], alternative = \"greater\")"
      ],
      "metadata": {
        "colab": {
          "base_uri": "https://localhost:8080/"
        },
        "id": "jzctceJcGHrr",
        "outputId": "a980c2b0-d9cd-4d36-8c0f-018473de46eb"
      },
      "execution_count": null,
      "outputs": [
        {
          "output_type": "execute_result",
          "data": {
            "text/plain": [
              "Ttest_indResult(statistic=-0.1014389640344685, pvalue=0.5403898529246063)"
            ]
          },
          "metadata": {},
          "execution_count": 53
        }
      ]
    },
    {
      "cell_type": "markdown",
      "source": [
        "### **Summary of findings for hypothesis #2:**\n",
        "\n",
        "The t-test shows that there is not a significant difference between electricity prices in the year of presidential election. **Fail to reject null hypothesis.**"
      ],
      "metadata": {
        "id": "PJaU8_cOt96t"
      }
    },
    {
      "cell_type": "markdown",
      "source": [
        "# Project summary:\n",
        "**Reject null hypothesis #1.** There is a strong positive statistical evidence that gas prices go down in the year of presidential election.\n",
        "\n",
        "**Fail to reject null hypothesis #2.** There is not a strong statistical evidence that the electricity prices go down in the year of presidential election."
      ],
      "metadata": {
        "id": "WdYtwSsmWv8W"
      }
    },
    {
      "cell_type": "markdown",
      "source": [
        "# Recommendations:\n",
        "* For companies that store gasoline, my recommendation is buying more gasoline during the year of presidential election, and less in the years that does not have an election. Doing that can reduce costs for the companie.\n",
        "\n",
        "* For companies that store energy, my recommendation is buying the same amount of energy every year, since the year of presidential election does not affect the energy price.\n",
        "\n"
      ],
      "metadata": {
        "id": "xkjMVqdK_G_c"
      }
    }
  ]
}